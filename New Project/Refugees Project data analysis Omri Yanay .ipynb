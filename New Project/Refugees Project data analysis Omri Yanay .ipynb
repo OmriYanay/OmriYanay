{
 "cells": [
  {
   "cell_type": "markdown",
   "id": "2d00efe5-07b2-4d76-85bb-61f19419c896",
   "metadata": {},
   "source": [
    "# 7. Refugees Dataset\n",
    "\n",
    "Link to the data source - https://www.kaggle.com/datasets/unitednations/refugee-data/data\n",
    "\n",
    "##### Omri Yanay\n",
    "##### Talya Bachmann\n",
    "##### Shir Nina Saban\n"
   ]
  },
  {
   "cell_type": "markdown",
   "id": "08baea94-af32-43fc-9b9c-fd4c4b426075",
   "metadata": {},
   "source": [
    "# <b> </b> <b style='color:#F09454'>Contents</b>\n",
    "#  <b id=\"Top\"> </b>"
   ]
  },
  {
   "cell_type": "markdown",
   "id": "3445c12a-69ca-45b3-9e92-18fda7fa5456",
   "metadata": {},
   "source": [
    "___\n",
    "#  1.<b id=\"introductions\"> </b> <b style='color:black'>Introduction </b> <b> &  Basic <b style='color:#F09454'>EDA. </b>  \n",
    "\n",
    "### <b> Importing </b> <b style='color:#F09454'>Libraries.</b>"
   ]
  },
  {
   "cell_type": "code",
   "execution_count": 1,
   "id": "e7dccffb-0734-4aa8-ac82-cb9f453be9ce",
   "metadata": {},
   "outputs": [],
   "source": [
    "# !pip install geopandas\n",
    "import pandas as pd\n",
    "import numpy as np\n",
    "import matplotlib.pyplot as plt\n",
    "import matplotlib.cm as cm\n",
    "import geopandas as gpd\n",
    "import seaborn as sns\n",
    "from IPython.display import Image, display\n",
    "import plotly.express as px  # similar to seaborn\n",
    "import plotly.graph_objects as go # more complex and customizable"
   ]
  },
  {
   "cell_type": "markdown",
   "id": "0de20b27-147b-46a5-ade8-e099e150172e",
   "metadata": {},
   "source": [
    "# Refugees_project\n",
    "\n",
    "<a id='top'></a>\n",
    "\n",
    "\n",
    "\n",
    "1. [Read-data](#section1)\n",
    "  \n",
    "2. [File 2 - Entry request](#section2)\n",
    "    \n",
    "3. [File 3 - Age range of refugees](#section3)\n",
    "    \n",
    "4. [File 4 - Population type](#section4)\n"
   ]
  },
  {
   "cell_type": "markdown",
   "id": "1d612e5b-fe4c-4c7a-99cc-8ac31e82a5b0",
   "metadata": {},
   "source": [
    "<div>\n",
    "  <img src=\"https://github.com/OmriYanay/OmriYanay/blob/main/New%20Project/Refugees-header.png?raw=true\" height=\"800\" />\n",
    "</div>\n"
   ]
  },
  {
   "cell_type": "code",
   "execution_count": 2,
   "id": "7d7209d4-1723-4cf1-949e-601973ed1948",
   "metadata": {
    "tags": []
   },
   "outputs": [],
   "source": [
    "url1 = 'https://raw.githubusercontent.com/OmriYanay/OmriYanay/main/New%20Project/asylum_seekers.csv'\n",
    "##(2000-2016) Yearly progress of asylum-seekers through the refugee status determination process, with data on UNHCR assistance.\n",
    "url2 = 'https://raw.githubusercontent.com/OmriYanay/new-project/main/demographics.csv'\n",
    "##(2001-2016) Information on refugees according to residence territory, broken down by regional level, age, and gender demographics. Warning-may be incomplete or otherwise conflict with persons_of_concern.csv and time_series.csv.\n",
    "url3 = 'https://raw.githubusercontent.com/OmriYanay/new-project/main/asylum_seekers_monthly.csv'\n",
    "##(2000-2016) Yearly progress of asylum-seekers through the refugee status determination process, with data on UNHCR assistance.\n",
    "url4 = 'https://raw.githubusercontent.com/OmriYanay/new-project/main/time_series.csv'\n",
    "##(1951-2016) Yearly population statistics on refugee movement changes from an origin to a destination."
   ]
  },
  {
   "cell_type": "markdown",
   "id": "808fbdd8-3129-4c42-85c5-5d1d9ae14e6a",
   "metadata": {},
   "source": [
    "<a id='section1'></a>\n",
    "### 1. Read data"
   ]
  },
  {
   "cell_type": "code",
   "execution_count": null,
   "id": "2d357e43-2a7b-4b74-9644-d0cdfd40df1b",
   "metadata": {},
   "outputs": [],
   "source": [
    "refugees_df1 = pd.read_csv(url1, low_memory=False)\n",
    "refugees_df2 = pd.read_csv(url2)\n",
    "refugees_df3 = pd.read_csv(url3, low_memory=False)\n",
    "refugees_df4 = pd.read_csv(url4, low_memory=False)"
   ]
  },
  {
   "cell_type": "code",
   "execution_count": null,
   "id": "13f8d5c2-72df-4856-b3c2-0cc58d1ddb59",
   "metadata": {},
   "outputs": [],
   "source": [
    "refugees_df3.head()"
   ]
  },
  {
   "cell_type": "code",
   "execution_count": null,
   "id": "6d50600d-7f86-44a8-9a32-654696e8a86c",
   "metadata": {},
   "outputs": [],
   "source": [
    "refugees_df3.rename(columns={'Country / territory of asylum/residence': 'Country'}, inplace=True)\n",
    "refugees_df3.head()"
   ]
  },
  {
   "cell_type": "code",
   "execution_count": null,
   "id": "31aba2b8-60ca-476f-aa7e-f6b61b709566",
   "metadata": {},
   "outputs": [],
   "source": [
    "refugees_df3['Origin'].unique()"
   ]
  },
  {
   "cell_type": "markdown",
   "id": "63d3dfc3-9882-43d0-bf40-ebb52b14ed8c",
   "metadata": {},
   "source": [
    "##### We added an iso_alpha column to allow the map_country_to_iso function to display the data on the map"
   ]
  },
  {
   "cell_type": "code",
   "execution_count": null,
   "id": "01c2a915-c9d6-4f9c-bc28-55db07e1eb97",
   "metadata": {},
   "outputs": [],
   "source": [
    "origin_iso_mapping ={\n",
    "    'Afghanistan': 'AFG',\n",
    "    'Albania': 'ALB',\n",
    "    'Algeria': 'DZA',\n",
    "    'Andorra': 'AND',\n",
    "    'Angola': 'AGO',\n",
    "    'Antigua and Barbuda': 'ATG',\n",
    "    'Argentina': 'ARG',\n",
    "    'Armenia': 'ARM',\n",
    "    'Australia': 'AUS',\n",
    "    'Austria': 'AUT',\n",
    "    'Azerbaijan': 'AZE',\n",
    "    'Bahamas': 'BHS',\n",
    "    'Bahrain': 'BHR',\n",
    "    'Bangladesh': 'BGD',\n",
    "    'Barbados': 'BRB',\n",
    "    'Belarus': 'BLR',\n",
    "    'Belgium': 'BEL',\n",
    "    'Belize': 'BLZ',\n",
    "    'Benin': 'BEN',\n",
    "    'Bhutan': 'BTN',\n",
    "    'Bolivia (Plurinational State of)': 'BOL',\n",
    "    'Bosnia': 'BIH',\n",
    "    'Botswana': 'BWA',\n",
    "    'Brazil': 'BRA',\n",
    "    'Brunei Darussalam': 'BRN',\n",
    "    'Bulgaria': 'BGR',\n",
    "    'Burkina Faso': 'BFA',\n",
    "    'Burundi': 'BDI',\n",
    "    'Cabo Verde': 'CPV',\n",
    "    'Cambodia': 'KHM',\n",
    "    'Cameroon': 'CMR',\n",
    "    'Canada': 'CAN',\n",
    "    'Central African Rep.': 'CAF',\n",
    "    'Chad': 'TCD',\n",
    "    'Chile': 'CHL',\n",
    "    'China': 'CHN',\n",
    "    'China, Hong Kong SAR': 'HKG',\n",
    "    'China, Macao SAR': 'MAC',\n",
    "    'Colombia': 'COL',\n",
    "    'Comoros': 'COM',\n",
    "    'Congo': 'COG',\n",
    "    'Costa Rica': 'CRI',\n",
    "    'Croatia': 'HRV',\n",
    "    'Cuba': 'CUB',\n",
    "    'Cyprus': 'CYP',\n",
    "    'Czech Rep.': 'CZE',\n",
    "    \"Côte d'Ivoire\": 'CIV',\n",
    "    \"Dem. People's Rep. of Korea\": 'PRK',\n",
    "    'Dem. Rep. of the Congo': 'COD',\n",
    "    'Denmark': 'DNK',\n",
    "    'Djibouti': 'DJI',\n",
    "    'Dominica': 'DMA',\n",
    "    'Dominican Rep.': 'DOM',\n",
    "    'Ecuador': 'ECU',\n",
    "    'Egypt': 'EGY',\n",
    "    'El Salvador': 'SLV',\n",
    "    'Equatorial Guinea': 'GNQ',\n",
    "    'Eritrea': 'ERI',\n",
    "    'Estonia': 'EST',\n",
    "    'Ethiopia': 'ETH',\n",
    "    'Fiji': 'FJI',\n",
    "    'Finland': 'FIN',\n",
    "    'France': 'FRA',\n",
    "    'Gabon': 'GAB',\n",
    "    'Gambia': 'GMB',\n",
    "    'Georgia': 'GEO',\n",
    "    'Germany': 'DEU',\n",
    "    'Ghana': 'GHA',\n",
    "    'Greece': 'GRC',\n",
    "    'Grenada': 'GRD',\n",
    "    'Guatemala': 'GTM',\n",
    "    'Guinea': 'GIN',\n",
    "    'Guinea-Bissau': 'GNB',\n",
    "    'Guyana': 'GUY',\n",
    "    'Haiti': 'HTI',\n",
    "    'Honduras': 'HND',\n",
    "    'Hungary': 'HUN',\n",
    "    'India': 'IND',\n",
    "    'Indonesia': 'IDN',\n",
    "    'Iran (Islamic Rep. of)': 'IRN',\n",
    "    'Iraq': 'IRQ',\n",
    "    'Ireland': 'IRL',\n",
    "    'Israel': 'ISR',\n",
    "    'Italy': 'ITA',\n",
    "    'Jamaica': 'JAM',\n",
    "    'Japan': 'JPN',\n",
    "    'Jordan': 'JOR',\n",
    "    'Kazakhstan': 'KAZ',\n",
    "    'Kenya': 'KEN',\n",
    "    'Kuwait': 'KWT',\n",
    "    'Kyrgyzstan': 'KGZ',\n",
    "    \"Lao People's Dem. Rep.\": 'LAO',\n",
    "    'Latvia': 'LVA',\n",
    "    'Lebanon': 'LBN',\n",
    "    'Lesotho': 'LSO',\n",
    "    'Liberia': 'LBR',\n",
    "    'Libya': 'LBY',\n",
    "    'Liechtenstein': 'LIE',\n",
    "    'Lithuania': 'LTU',\n",
    "    'Luxembourg': 'LUX',\n",
    "    'Madagascar': 'MDG',\n",
    "    'Malawi': 'MWI',\n",
    "    'Malaysia': 'MYS',\n",
    "    'Maldives': 'MDV',\n",
    "    'Mali': 'MLI',\n",
    "    'Malta': 'MLT',\n",
    "    'Martinique': 'MTQ',\n",
    "    'Mauritania': 'MRT',\n",
    "    'Mauritius': 'MUS',\n",
    "    'Mexico': 'MEX',\n",
    "    'Mongolia': 'MNG',\n",
    "    'Montenegro': 'MNE',\n",
    "    'Morocco': 'MAR',\n",
    "    'Mozambique': 'MOZ',\n",
    "    'Myanmar': 'MMR',\n",
    "    'Namibia': 'NAM',\n",
    "    'Nauru': 'NRU',\n",
    "    'Nepal': 'NPL',\n",
    "    'Netherlands': 'NLD',\n",
    "    'New Caledonia': 'NCL',\n",
    "    'New Zealand': 'NZL',\n",
    "    'Nicaragua': 'NIC',\n",
    "    'Niger': 'NER',\n",
    "    'Nigeria': 'NGA',\n",
    "    'Norway': 'NOR',\n",
    "    'Oman': 'OMN',\n",
    "    'Pakistan': 'PAK',\n",
    "    'Palestinian': 'PSE',\n",
    "    'Panama': 'PAN',\n",
    "    'Papua New Guinea': 'PNG',\n",
    "    'Paraguay': 'PRY',\n",
    "    'Peru': 'PER',\n",
    "    'Philippines': 'PHL',\n",
    "    'Poland': 'POL',\n",
    "    'Portugal': 'PRT',\n",
    "    'Qatar': 'QAT',\n",
    "    'Rep. of Korea': 'KOR',\n",
    "    'Rep. of Moldova': 'MDA',\n",
    "    'Romania': 'ROU',\n",
    "    'Russian Federation': 'RUS',\n",
    "    'Rwanda': 'RWA',\n",
    "    'Saint Kitts and Nevis': 'KNA',\n",
    "    'Saint Lucia': 'LCA',\n",
    "    'Saint Vincent and the Grenadines': 'VCT',\n",
    "    'Samoa': 'WSM',\n",
    "    'San Marino': 'SMR',\n",
    "    'Saudi Arabia': 'SAU',\n",
    "    'Senegal': 'SEN',\n",
    "    'Serbia': 'SRB',\n",
    "    'Seychelles': 'SYC',\n",
    "    'Sierra Leone': 'SLE',\n",
    "    'Singapore': 'SGP',\n",
    "    'Slovakia': 'SVK',\n",
    "    'Slovenia': 'SVN',\n",
    "    'Solomon Islands': 'SLB',\n",
    "    'Somalia': 'SOM',\n",
    "    'South Africa': 'ZAF',\n",
    "    'South Sudan': 'SSD',\n",
    "    'Spain': 'ESP',\n",
    "    'Sri Lanka': 'LKA',\n",
    "    'Stateless': '',\n",
    "    'Sudan': 'SDN',\n",
    "    'Suriname': 'SUR',\n",
    "    'Swaziland': 'SWZ',\n",
    "    'Sweden': 'SWE',\n",
    "    'Switzerland': 'CHE',\n",
    "    'Syrian Arab Rep.': 'SYR',\n",
    "    'Tajikistan': 'TJK',\n",
    "    'Thailand': 'THA',\n",
    "    'The former Yugoslav Rep. of Macedonia': 'MKD',\n",
    "    'Tibetan': '',\n",
    "    'Timor-Leste': 'TLS',\n",
    "    'Togo': 'TGO',\n",
    "    'Tonga': 'TON',\n",
    "    'Trinidad and Tobago': 'TTO',\n",
    "    'Tunisia': 'TUN',\n",
    "    'Turkey': 'TUR',\n",
    "    'Turkmenistan': 'TKM',\n",
    "    'Uganda': 'UGA',\n",
    "    'Ukraine': 'UKR',\n",
    "    'United Arab Emirates': 'ARE',\n",
    "    'United Kingdom': 'GBR',\n",
    "    'United Rep. of Tanzania': 'TZA',\n",
    "    'United States of America': 'USA',\n",
    "    'Uruguay': 'URY',\n",
    "    'Uzbekistan': 'UZB',\n",
    "    'Various/unknown': '',\n",
    "    'Venezuela (Bolivarian Republic of)': 'VEN',\n",
    "    'Viet Nam': 'VNM',\n",
    "    'Western Sahara': 'ESH',\n",
    "    'Yemen': 'YEM',\n",
    "    'Zambia': 'ZMB',\n",
    "    'Zimbabwe': 'ZWE'\n",
    "}\n",
    "\n",
    "\n",
    "# Function to map country names to ISO alpha-3 codes\n",
    "def map_country_to_iso(country):\n",
    "    return origin_iso_mapping.get(country, '')\n",
    "\n",
    "# Add a new column 'iso_alpha' with ISO alpha-3 codes \n",
    "refugees_df3['iso_alpha'] = refugees_df3['Origin'].apply(map_country_to_iso)\n",
    "\n",
    "# Save the DataFrame back to your file\n",
    "refugees_df3.to_csv(url3, index=False)\n"
   ]
  },
  {
   "cell_type": "code",
   "execution_count": null,
   "id": "c80f9245-797c-41ad-9853-b426803e7075",
   "metadata": {},
   "outputs": [],
   "source": [
    "refugees_df3['Value'] = pd.to_numeric(refugees_df3['Value'], errors='coerce')\n",
    "group_Origin = refugees_df3.groupby(['Year', 'Origin','iso_alpha'])[['Value']].sum().reset_index()\n",
    "group_Origin.head()"
   ]
  },
  {
   "cell_type": "code",
   "execution_count": null,
   "id": "36dd89af-b689-482d-af6d-d0aa76599bf0",
   "metadata": {},
   "outputs": [],
   "source": [
    "gapminder_filtered = group_Origin[group_Origin['Year'] <= 2016]  ## we didn't show 2017 because because tha data was missing information\n",
    "fig = px.choropleth(gapminder_filtered, \n",
    "                    color=\"Value\", \n",
    "                    locations=\"iso_alpha\", \n",
    "                    hover_name=\"Origin\", \n",
    "                    animation_frame=\"Year\",\n",
    "                    height=600)\n",
    "fig.update_layout(\n",
    "    font = dict(\n",
    "            size = 14\n",
    "            ),    \n",
    "    title={\n",
    "        'text': \"Origin of refugees\",\n",
    "        'y':0.95,\n",
    "        'x':0.5\n",
    "        },\n",
    ")\n",
    "# Show the map\n",
    "fig.show()"
   ]
  },
  {
   "cell_type": "markdown",
   "id": "3ef20994-415e-444d-82f3-f357aa0dbe31",
   "metadata": {},
   "source": [
    "##### In the map before us, we can see, according to years, the countries from which the most refugees originated."
   ]
  },
  {
   "cell_type": "markdown",
   "id": "ca9c36fe-6a0f-411b-9710-43a3d7e61f34",
   "metadata": {},
   "source": [
    "* ###  We decided to focus on the year 2015 as we observed a significant increase in the data. From here, we noticed that there are countries that lead in the amount of refugees from which they leave.\n",
    "* ###  Based on the provided data, it can be concluded that Iran, Syria, Afghanistan, Iraq, and Pakistan are indeed the countries with the highest number of refugees. These are nations that have experienced refugee trends due to geopolitical and internal events such as wars, ethnic conflicts, and shifts in power. The analytical approach to the data strongly supports this assertion, confirming that these countries are in precarious situations in terms of stability and security, prompting their residents to seek safer havens."
   ]
  },
  {
   "cell_type": "code",
   "execution_count": null,
   "id": "0e432525-8e8b-4a8b-8677-7d8a7cd725f7",
   "metadata": {},
   "outputs": [],
   "source": [
    "refugees_df3['Country'] = refugees_df3['Country'].replace({'Serbia and Kosovo: S/RES/1244 (1999)': 'Serbia', 'Bosnia and Herzegovina': 'Bosnia', 'United Kingdom of Great Britain and Northern Ireland': 'United Kingdom', })\n",
    "refugees_df3['Country'].unique() "
   ]
  },
  {
   "cell_type": "markdown",
   "id": "a830d070-437e-423d-8e38-d87cf0c04bed",
   "metadata": {},
   "source": [
    "##### we decided to change the name of different Countries as we saw the had long confusing names."
   ]
  },
  {
   "cell_type": "code",
   "execution_count": null,
   "id": "24346cf3-2b90-4ebc-a584-da6c139b9162",
   "metadata": {},
   "outputs": [],
   "source": [
    "country_iso_mapping = {\n",
    "    'Australia': 'AUS',\n",
    "    'Austria': 'AUT',\n",
    "    'Belgium': 'BEL',\n",
    "    'Bulgaria': 'BGR',\n",
    "    'Canada': 'CAN',\n",
    "    'Czech Rep.': 'CZE',\n",
    "    'Denmark': 'DNK',\n",
    "    'Finland': 'FIN',\n",
    "    'France': 'FRA',\n",
    "    'Germany': 'DEU',\n",
    "    'Greece': 'GRC',\n",
    "    'Hungary': 'HUN',\n",
    "    'Ireland': 'IRL',\n",
    "    'Liechtenstein': 'LIE',\n",
    "    'Luxembourg': 'LUX',\n",
    "    'Netherlands': 'NLD',\n",
    "    'Norway': 'NOR',\n",
    "    'Poland': 'POL',\n",
    "    'Portugal': 'PRT',\n",
    "    'Rep. of Korea': 'KOR',\n",
    "    'Romania': 'ROU',\n",
    "    'Slovakia': 'SVK',\n",
    "    'Slovenia': 'SVN',\n",
    "    'Spain': 'ESP',\n",
    "    'Sweden': 'SWE',\n",
    "    'Switzerland': 'CHE',\n",
    "    'Turkey': 'TUR',\n",
    "    'United Kingdom': 'GBR',\n",
    "    'USA (EOIR)': 'USA',  # Assuming USA for both 'USA (EOIR)' and 'USA (INS/DHS)'\n",
    "    'New Zealand': 'NZL',\n",
    "    'USA (INS/DHS)': 'USA',\n",
    "    'Cyprus': 'CYP',\n",
    "    'Iceland': 'ISL',\n",
    "    'Japan': 'JPN',\n",
    "    'Croatia': 'HRV',  # ISO alpha-3 code for Croatia is HRV\n",
    "    'Estonia': 'EST',\n",
    "    'Latvia': 'LVA',\n",
    "    'Malta': 'MLT',\n",
    "    'Serbia': 'SRB',\n",
    "    'Lithuania': 'LTU',\n",
    "    'Albania': 'ALB',\n",
    "    'Montenegro': 'MNE',\n",
    "    'The former Yugoslav Rep. of Macedonia': 'MKD',\n",
    "    'Bosnia': 'BIH',  # ISO alpha-3 code for Bosnia and Herzegovina is BIH\n",
    "    'Italy': 'ITA'\n",
    "}\n",
    "\n",
    "# Function to map country names to ISO alpha-3 codes\n",
    "def map_country_to_iso(country):\n",
    "    return country_iso_mapping.get(country, '')\n",
    "\n",
    "# Add a new column 'iso_alpha' with ISO alpha-3 codes\n",
    "refugees_df3['iso_alpha'] = refugees_df3['Country'].apply(map_country_to_iso)\n",
    "\n",
    "# Save the DataFrame back to your file\n",
    "refugees_df3.to_csv(url3, index=False)\n"
   ]
  },
  {
   "cell_type": "code",
   "execution_count": null,
   "id": "372a008a-0f8e-4350-97b3-b31bb1f4818e",
   "metadata": {},
   "outputs": [],
   "source": [
    "refugees_df3['Value'] = pd.to_numeric(refugees_df3['Value'], errors='coerce')\n",
    "group_Country = refugees_df3.groupby(['Year', 'Country','iso_alpha'])[['Value']].sum().reset_index()"
   ]
  },
  {
   "cell_type": "code",
   "execution_count": null,
   "id": "efbe32ee-dd41-4f2f-aa41-7872c557769b",
   "metadata": {},
   "outputs": [],
   "source": [
    "gapminder_filtered = group_Country[group_Country['Year'] <= 2016]\n",
    "fig = px.choropleth(gapminder_filtered, \n",
    "                    color=\"Value\", \n",
    "                    locations=\"iso_alpha\", \n",
    "                    hover_name=\"Country\", \n",
    "                    animation_frame=\"Year\",\n",
    "                    height=600)\n",
    "fig.update_layout(\n",
    "    font = dict(\n",
    "            size = 14\n",
    "            ),    \n",
    "    title={\n",
    "        'text': \"Destination country of refugees\",\n",
    "        'y':0.95,\n",
    "        'x':0.5\n",
    "        },\n",
    ")\n",
    "# Show the map\n",
    "fig.show()"
   ]
  },
  {
   "cell_type": "markdown",
   "id": "252b60fc-bdce-4017-9a1f-bf0f1a3222bf",
   "metadata": {},
   "source": [
    "##### In the map before us, we can see, according to years, the countries that most refugees arrived."
   ]
  },
  {
   "cell_type": "markdown",
   "id": "8f375235-71c3-4f12-a5ae-a52851bab567",
   "metadata": {},
   "source": [
    " ##### Following the previous data focusing on the countries from which refugees originate, we decided to show the countries where the most refugees arrive.\n",
    " ##### As can be seen on the map, the top five countries receiving refugees are Germany, Hungary, Sweden, Turkey, and Austria."
   ]
  },
  {
   "cell_type": "markdown",
   "id": "f3ec480f-242d-4d54-816b-a6132b20cb66",
   "metadata": {},
   "source": [
    "<a id='section2'></a>\n",
    "### 2.File 2 - Entry request"
   ]
  },
  {
   "cell_type": "markdown",
   "id": "1f799052-43d8-43b0-9371-6b5f2f763c0e",
   "metadata": {
    "tags": []
   },
   "source": [
    "#### The following file focuses on the process of submitting an entry request to the destination country of refugees."
   ]
  },
  {
   "cell_type": "code",
   "execution_count": null,
   "id": "b0757220-8495-4503-b0e6-af6893846997",
   "metadata": {},
   "outputs": [],
   "source": [
    "refugees_df1.head()"
   ]
  },
  {
   "cell_type": "markdown",
   "id": "4d2fdde1-88c7-49bf-b7a3-84d38b24c0d3",
   "metadata": {},
   "source": [
    "RSD= Refugee Status Determination, is the legal or administrative process by which governments or UNHCR determine whether a person seeking international protection is considered a refugee under international, regional or national law"
   ]
  },
  {
   "cell_type": "code",
   "execution_count": null,
   "id": "09b5f731-6bc7-4efc-b584-079de0522611",
   "metadata": {},
   "outputs": [],
   "source": [
    "refugees_df1.shape"
   ]
  },
  {
   "cell_type": "code",
   "execution_count": null,
   "id": "dfd2b3ce-710e-4af8-a983-555c6bc5126e",
   "metadata": {},
   "outputs": [],
   "source": [
    "refugees_df1.rename(columns={'Country / territory of asylum/residence': 'Country'}, inplace=True)\n",
    "refugees_df1.head()"
   ]
  },
  {
   "cell_type": "code",
   "execution_count": null,
   "id": "273f8d59-7164-4050-9c78-15ee1dee3acb",
   "metadata": {},
   "outputs": [],
   "source": [
    "refugees_df1['Tota pending start-year'] = refugees_df1['Tota pending start-year'].replace('*', '0')\n",
    "refugees_df1['Tota pending start-year'].fillna('0', inplace=True)\n",
    "refugees_df1['Total pending end-year'] = refugees_df1['Total pending end-year'].replace('*','0')\n",
    "refugees_df1['Total pending end-year'].fillna('0', inplace=True)\n",
    "refugees_df1['Total decisions'] = refugees_df1['Total decisions'].replace('*', '0')\n",
    "refugees_df1['Total decisions'].fillna('0', inplace=True)\n",
    "refugees_df1['of which UNHCR-assisted(end-year)'] = refugees_df1['of which UNHCR-assisted(end-year)'].replace('*','0')\n",
    "refugees_df1['of which UNHCR-assisted(end-year)'].fillna('0', inplace=True)\n",
    "refugees_df1['of which UNHCR-assisted(start-year)'] = refugees_df1['of which UNHCR-assisted(start-year)'].replace('*','0')\n",
    "refugees_df1['of which UNHCR-assisted(start-year)'].fillna('0', inplace=True)\n",
    "refugees_df1['Applied during year'] = refugees_df1['Applied during year'].replace('*','0')\n",
    "refugees_df1['Applied during year'].fillna('0', inplace=True)\n",
    "refugees_df1['decisions_recognized'] = refugees_df1['decisions_recognized'].replace('*','0')\n",
    "refugees_df1['decisions_recognized'].fillna('0', inplace=True)\n",
    "refugees_df1['decisions_other'] = refugees_df1['decisions_other'].replace('*','0')\n",
    "refugees_df1['decisions_other'].fillna('0', inplace=True)\n",
    "refugees_df1['Rejected'] = refugees_df1['Rejected'].replace('*','0')\n",
    "refugees_df1['Rejected'].fillna('0', inplace=True)\n",
    "refugees_df1['Otherwise closed'] = refugees_df1['Otherwise closed'].replace('*','0')\n",
    "refugees_df1['Otherwise closed'].fillna('0', inplace=True)"
   ]
  },
  {
   "cell_type": "code",
   "execution_count": null,
   "id": "81e95331-5369-456b-9e16-0c756bc3e59f",
   "metadata": {},
   "outputs": [],
   "source": [
    "refugees_df1.isnull().sum()"
   ]
  },
  {
   "cell_type": "code",
   "execution_count": null,
   "id": "74f46efc-93f6-48b0-a2d1-2c7ac5eaf753",
   "metadata": {},
   "outputs": [],
   "source": [
    "refugees_df1['Total decisions'] = pd.to_numeric(refugees_df1['Total decisions'], errors='coerce')\n",
    "\n",
    "sum_df1D = refugees_df1.groupby('Country')['Total decisions'].sum().reset_index()\n",
    "\n",
    "sum_df1D.head()"
   ]
  },
  {
   "cell_type": "code",
   "execution_count": null,
   "id": "2ca7598f-78ed-472a-98ce-6756d493f6d2",
   "metadata": {},
   "outputs": [],
   "source": [
    "refugees_df1['Rejected'] = pd.to_numeric(refugees_df1['Rejected'], errors='coerce')\n",
    "\n",
    "sum_df1R = refugees_df1.groupby('Country')['Rejected'].sum().reset_index()\n",
    "\n",
    "sum_df1R.head()"
   ]
  },
  {
   "cell_type": "code",
   "execution_count": null,
   "id": "704742e2-e690-4762-a028-1adf689a44af",
   "metadata": {},
   "outputs": [],
   "source": [
    "filtered_df1 = sum_df1R[sum_df1R['Rejected'] > 50000] # 184000 top 10 Countries\n",
    "filtered_df1"
   ]
  },
  {
   "cell_type": "markdown",
   "id": "4f543168-9ff5-4616-b213-bdc6092660b2",
   "metadata": {},
   "source": [
    "<a id='section2.1'></a>\n",
    "### 2.1 Merging tables"
   ]
  },
  {
   "cell_type": "code",
   "execution_count": null,
   "id": "e3f8a443-414a-4ede-922e-e378c7e1f7cc",
   "metadata": {},
   "outputs": [],
   "source": [
    "merged_df1 = pd.merge(filtered_df1, sum_df1D, on='Country', how='left')\n",
    "merged_df1['Percentage'] = (merged_df1['Rejected'] / merged_df1['Total decisions']) * 100\n",
    "merged_df1"
   ]
  },
  {
   "cell_type": "code",
   "execution_count": null,
   "id": "98730eb6-88ea-4b68-b2e7-c5ce02e1f848",
   "metadata": {},
   "outputs": [],
   "source": [
    "# Plotting\n",
    "fig, ax = plt.subplots(figsize=(10, 6))\n",
    "\n",
    "# Plot bar chart for total requests\n",
    "ax.bar(merged_df1['Country'], merged_df1['Total decisions'], color='teal', label='Total decisions')\n",
    "\n",
    "# Plot bar chart for rejected requests\n",
    "ax.bar(merged_df1['Country'], merged_df1['Rejected'], color='navy', label='Rejected')\n",
    "\n",
    "# Set labels and title\n",
    "ax.set_xlabel('Country')\n",
    "ax.set_ylabel('Number of Requests')\n",
    "ax.set_title('Total Requests and Rejected Requests by Country (Top 20)')\n",
    "ax.legend()\n",
    "\n",
    "plt.xticks(rotation=85)  # Rotate x-labels for better visibility\n",
    "\n",
    "plt.tight_layout()\n",
    "plt.show()"
   ]
  },
  {
   "cell_type": "markdown",
   "id": "51042850-6490-4fe8-bc3f-24b9ba5122f7",
   "metadata": {},
   "source": [
    "##### From the graph above, we can learn which countries have a more lenient refugee acceptance policy and which countries have decided not to allow a high number of refugees to enter.\n",
    " \n",
    "##### As can be seen, there are countries that lead in the number of refugees seeking to come to them, but not all of them lead in the quantity of refugees they approve to enter. Therefore, we decided to examine the percentage of refugees each country approves and rejects, In order to better understand which country has a more lenient refugee acceptance policy.\n",
    " "
   ]
  },
  {
   "cell_type": "code",
   "execution_count": null,
   "id": "7a939ab9-4aaa-4d4c-9251-44dbedddac4a",
   "metadata": {},
   "outputs": [],
   "source": [
    "Top5_Req = sum_df1R[sum_df1R['Rejected'] > 450000] \n",
    "merged_Top5_Req = pd.merge(Top5_Req, sum_df1D, on='Country', how='left')\n",
    "merged_Top5_Req['Percentage'] = (merged_Top5_Req['Rejected'] / merged_Top5_Req['Total decisions']) * 100"
   ]
  },
  {
   "cell_type": "code",
   "execution_count": null,
   "id": "6a191e3c-1fbf-49d2-9e94-121855cf7592",
   "metadata": {},
   "outputs": [],
   "source": [
    "# Creating DataFrame\n",
    "df = pd.DataFrame(merged_Top5_Req)\n",
    "\n",
    "# calculating the Rejected precentage in each Country\n",
    "df['Percentage'] = (df['Rejected'] / df['Total decisions']) * 100\n",
    "\n",
    "# Dividing the table in groups of 5 for each line\n",
    "groups = [df.iloc[i:i+5] for i in range(0, len(df), 5)]\n",
    "\n",
    "# Creating a pie for each country\n",
    "for group in groups:\n",
    "    plt.figure(figsize=(15, 5))\n",
    "    for index, row in group.iterrows():\n",
    "        plt.subplot(1, len(group), index % len(group) + 1)\n",
    "        plt.pie([row['Rejected'], row['Total decisions'] - row['Rejected']], labels=['Rejected', 'Accepted'], autopct='%1.1f%%')\n",
    "        plt.title(row['Country'])\n",
    "    plt.show()\n",
    "\n"
   ]
  },
  {
   "cell_type": "markdown",
   "id": "a92cf599-c57c-4e55-be34-b6952093bb81",
   "metadata": {},
   "source": [
    "* ###  Let's look at the five leading countries in terms of the number of asylum applications, and it appears that the United States and Germany have a more lenient policy of approval and acceptance for refugees compared to France, England, and South Africa, which also have a large number of applications."
   ]
  },
  {
   "cell_type": "markdown",
   "id": "e2599bde-d93a-494a-9df9-b8e7516cc3a0",
   "metadata": {},
   "source": [
    "<a id='section3'></a>\n",
    "### 3.File 3 - Age range of refugees"
   ]
  },
  {
   "cell_type": "markdown",
   "id": "71a4cc35-592f-43d7-96c4-635cff03bfa9",
   "metadata": {},
   "source": [
    "#### We wanted to examine the age range of refugees across all countries in order to analyze the refugee situation more accurately."
   ]
  },
  {
   "cell_type": "code",
   "execution_count": null,
   "id": "66c77ee7-3715-4065-a0c3-abb2c057e1ed",
   "metadata": {},
   "outputs": [],
   "source": [
    "refugees_df2.head()"
   ]
  },
  {
   "cell_type": "code",
   "execution_count": null,
   "id": "4622931a-28d6-4d76-a285-17a2c2899007",
   "metadata": {},
   "outputs": [],
   "source": [
    "## we wanted delete the 2 columns with same info\n",
    "# Deleting 'Male 5-17' column\n",
    "refugees_df2.drop(columns=['Male 5-17'], inplace=True)\n",
    "# Deleting 'Female 5-17' column\n",
    "refugees_df2.drop(columns=['Female 5-17'], inplace=True)"
   ]
  },
  {
   "cell_type": "code",
   "execution_count": null,
   "id": "1e8fa80e-688c-4ae7-b37d-1fedaca065c6",
   "metadata": {},
   "outputs": [],
   "source": [
    "refugees_df2.isnull().sum()"
   ]
  },
  {
   "cell_type": "code",
   "execution_count": null,
   "id": "3fa5248b-5b53-4f45-b04b-63f5383249c5",
   "metadata": {},
   "outputs": [],
   "source": [
    "refugees_df2['Female 0-4'].replace('*', 0, inplace=True)\n",
    "refugees_df2['Female 0-4'].fillna(0, inplace=True)\n",
    "\n",
    "refugees_df2['Female 5-11'].replace('*', 0, inplace=True)\n",
    "refugees_df2['Female 5-11'].fillna(0, inplace=True)\n",
    "\n",
    "refugees_df2['Female 12-17'].replace('*', 0, inplace=True)\n",
    "refugees_df2['Female 12-17'].fillna(0, inplace=True)\n",
    "\n",
    "refugees_df2['Female 18-59'].replace('*', 0, inplace=True)\n",
    "refugees_df2['Female 18-59'].fillna(0, inplace=True)\n",
    "\n",
    "refugees_df2['Female 60+'].replace('*', 0, inplace=True)\n",
    "refugees_df2['Female 60+'].fillna(0, inplace=True)\n",
    "\n",
    "refugees_df2['F: Unknown'].replace('*', 0, inplace=True)\n",
    "refugees_df2['F: Unknown'].fillna(0, inplace=True)\n",
    "\n",
    "refugees_df2['F: Total'].replace('*', 0, inplace=True)\n",
    "refugees_df2['F: Total'].fillna(0, inplace=True)\n",
    "\n",
    "refugees_df2['Male 0-4'].replace('*', 0, inplace=True)\n",
    "refugees_df2['Male 0-4'].fillna(0, inplace=True)\n",
    "\n",
    "refugees_df2['Male 5-11'].replace('*', 0, inplace=True)\n",
    "refugees_df2['Male 5-11'].fillna(0, inplace=True)\n",
    "\n",
    "refugees_df2['Male 12-17'].replace('*', 0, inplace=True)\n",
    "refugees_df2['Male 12-17'].fillna(0, inplace=True)\n",
    "\n",
    "refugees_df2['Male 18-59'].replace('*', 0, inplace=True)\n",
    "refugees_df2['Male 18-59'].fillna(0, inplace=True)\n",
    "\n",
    "refugees_df2['Male 60+'].replace('*', 0, inplace=True)\n",
    "refugees_df2['Male 60+'].fillna(0, inplace=True)\n",
    "\n",
    "refugees_df2['M: Unknown'].replace('*', 0, inplace=True)\n",
    "refugees_df2['M: Unknown'].fillna(0, inplace=True)\n",
    "\n",
    "refugees_df2['M: Total'].replace('*', 0, inplace=True)\n",
    "refugees_df2['M: Total'].fillna(0, inplace=True)\n"
   ]
  },
  {
   "cell_type": "code",
   "execution_count": null,
   "id": "3971bf4f-d9f3-4eb0-a2b2-82631d1cc14a",
   "metadata": {},
   "outputs": [],
   "source": [
    "refugees_df2.dtypes"
   ]
  },
  {
   "cell_type": "code",
   "execution_count": null,
   "id": "e8b0aa43-075e-4429-860b-890890ba7cf2",
   "metadata": {},
   "outputs": [],
   "source": [
    "# המרת העמודות לטיפוס מספרי\n",
    "refugees_df2['Female 0-4'] = refugees_df2['Female 0-4'].astype(int)\n",
    "refugees_df2['Female 5-11'] = refugees_df2['Female 5-11'].astype(int)\n",
    "refugees_df2['Female 12-17'] = refugees_df2['Female 12-17'].astype(int)\n",
    "refugees_df2['Female 18-59'] = refugees_df2['Female 18-59'].astype(int)\n",
    "refugees_df2['Female 60+'] = refugees_df2['Female 60+'].astype(int)\n",
    "refugees_df2['F: Total'] = refugees_df2['F: Total'].astype(int)\n",
    "refugees_df2['Male 0-4'] = refugees_df2['Male 0-4'].astype(int)\n",
    "refugees_df2['Male 5-11'] = refugees_df2['Male 5-11'].astype(int)\n",
    "refugees_df2['Male 12-17'] = refugees_df2['Male 12-17'].astype(int)\n",
    "refugees_df2['Male 18-59'] = refugees_df2['Male 18-59'].astype(int)\n",
    "refugees_df2['Male 60+'] = refugees_df2['Male 60+'].astype(int)\n"
   ]
  },
  {
   "cell_type": "code",
   "execution_count": null,
   "id": "815518b4-1d90-46f6-9fe4-39e398f22a14",
   "metadata": {},
   "outputs": [],
   "source": [
    "refugees_df2.dtypes"
   ]
  },
  {
   "cell_type": "code",
   "execution_count": null,
   "id": "715aa714-dc11-4eb0-94b8-d6c96106e6de",
   "metadata": {},
   "outputs": [],
   "source": [
    "# Switching 'M: Total' dtype to numeric\n",
    "refugees_df2['M: Total'] = pd.to_numeric(refugees_df2['M: Total'], errors='coerce')\n",
    "\n",
    "# Calculation of the percentage of refugees in each age range\n",
    "percent_women_0_4 = (refugees_df2['Female 0-4'] / refugees_df2['F: Total']) * 100\n",
    "percent_women_5_11 = (refugees_df2['Female 5-11'] / refugees_df2['F: Total']) * 100\n",
    "percent_women_12_17 = (refugees_df2['Female 12-17'] / refugees_df2['F: Total']) * 100\n",
    "percent_women_18_59 = (refugees_df2['Female 18-59'] / refugees_df2['F: Total']) * 100\n",
    "percent_women_60_plus = (refugees_df2['Female 60+'] / refugees_df2['F: Total']) * 100\n",
    "\n",
    "percent_men_0_4 = (refugees_df2['Male 0-4'] / refugees_df2['M: Total']) * 100\n",
    "percent_men_5_11 = ((refugees_df2['Male 5-11'] + refugees_df2['Male 12-17']) / refugees_df2['M: Total']) * 100\n",
    "percent_men_12_17 = (refugees_df2['Male 12-17'] / refugees_df2['M: Total']) * 100\n",
    "percent_men_18_59 = (refugees_df2['Male 18-59'] / refugees_df2['M: Total']) * 100\n",
    "percent_men_60_plus = (refugees_df2['Male 60+'] / refugees_df2['M: Total']) * 100\n",
    "\n",
    "percent_women = [percent_women_0_4.mean(), percent_women_5_11.mean(), \n",
    "                 percent_women_12_17.mean(), percent_women_18_59.mean(), percent_women_60_plus.mean()]\n",
    "percent_men = [percent_men_0_4.mean(), percent_men_5_11.mean(), \n",
    "               percent_men_12_17.mean(), percent_men_18_59.mean(), percent_men_60_plus.mean()]\n",
    "\n",
    "# Creating a list of labels for the X-axis\n",
    "age_ranges = ['0-4', '5-11', '12-17', '18-59', '60+']\n",
    "\n",
    "# Space on the x-axis for each group of columns\n",
    "bar_positions_women = np.arange(len(age_ranges))\n",
    "bar_positions_men = [pos + 0.4 for pos in bar_positions_women]\n",
    "\n",
    "bar_width = 0.4\n",
    "plt.figure(figsize=(10, 6))\n",
    "\n",
    "plt.bar(bar_positions_women, percent_women, color='Teal', label='Women', width=bar_width)\n",
    "plt.bar(bar_positions_men, percent_men, color='Skyblue', label='Men', width=bar_width)\n",
    "\n",
    "plt.title('Percentage of Refugees by Age Range and Gender')\n",
    "plt.xlabel('Age Range')\n",
    "plt.ylabel('Percentage')\n",
    "plt.xticks([pos + bar_width / 2 for pos in bar_positions_women], age_ranges)\n",
    "plt.legend()\n",
    "\n",
    "plt.show()"
   ]
  },
  {
   "cell_type": "markdown",
   "id": "7983d9db-9ef4-40a8-840e-f1e0036a37d1",
   "metadata": {},
   "source": [
    "<a id='section4'></a>\n",
    "### 4.File 4 - Population type"
   ]
  },
  {
   "cell_type": "markdown",
   "id": "682e78d4-5a8c-4f2c-b262-1250c5d266e2",
   "metadata": {},
   "source": [
    "#### In the next data we will focus on the demographics of refugees and asylum seekers."
   ]
  },
  {
   "cell_type": "code",
   "execution_count": null,
   "id": "849d318f-9e6b-4e85-ac89-5eccf2a88457",
   "metadata": {},
   "outputs": [],
   "source": [
    "refugees_df4.head()"
   ]
  },
  {
   "cell_type": "code",
   "execution_count": null,
   "id": "d915d363-47d1-4108-a89e-792a33ab281b",
   "metadata": {},
   "outputs": [],
   "source": [
    "df15 = refugees_df4[(refugees_df4['Year'] == 2015)]"
   ]
  },
  {
   "cell_type": "code",
   "execution_count": null,
   "id": "f1329cd1-5932-4edb-9064-4aa2ed9ba00b",
   "metadata": {},
   "outputs": [],
   "source": [
    "# Summary of the population types according to the different types\n",
    "df15['Value'] = pd.to_numeric(df15['Value'], errors='coerce')\n",
    "population_summary= df15.groupby('Population type')[['Value']].sum().reset_index()\n",
    "population_summary"
   ]
  },
  {
   "cell_type": "code",
   "execution_count": null,
   "id": "36918301-ea3a-4860-9f1a-49ad2971ce46",
   "metadata": {},
   "outputs": [],
   "source": [
    "df = pd.DataFrame(df15)\n",
    "# Filtering the data for the years 2015 and the countries with the highest values of the stateless people\n",
    "filtered_df = df[(df['Year'].isin([2015])) & (df['Population type'] == 'Returnees')].sort_values(by='Value', ascending=False)"
   ]
  },
  {
   "cell_type": "code",
   "execution_count": null,
   "id": "d8e44145-c2f6-4f59-b546-6cd998d820c5",
   "metadata": {},
   "outputs": [],
   "source": [
    "filtered_df['Value'] = filtered_df['Value'].fillna(0)\n",
    "filtered_df['Value'] = filtered_df['Value'].astype(int)\n",
    "\n",
    "# Find the 10 countries with the highest values in the 'Value' column\n",
    "top_Origin = filtered_df.nlargest(10, 'Value')\n",
    "\n",
    "plt.figure(figsize=(10, 6))\n",
    "plt.bar(top_Origin['Origin'], top_Origin['Value'], color='Maroon')\n",
    "plt.title('Top 8 Countries with Highest Number of Returnees')\n",
    "plt.xlabel('Origin')\n",
    "plt.ylabel('Number of Returnees Persons')\n",
    "plt.xticks(rotation=45)\n",
    "plt.show()\n"
   ]
  },
  {
   "cell_type": "markdown",
   "id": "d5914347-91e3-4146-a7c8-13477cda5823",
   "metadata": {},
   "source": [
    "##### The graph displays the top 10 countries with the highest number of returning refugees.\n",
    "\n",
    "* ### We noticed that these countries are third world countries where the number of refugees leaving is also significant, and we observed earlier that in these countries there is a situation that does not allow good and decent conditions for a citizen in the country. Therefore, we can speculate that there have been improvements in these countries and efforts have been made to improve the economic and social situation in these countries in order to assist the local population, which influenced the decision of the refugees to return to their country."
   ]
  },
  {
   "cell_type": "markdown",
   "id": "3980309b-8b3e-4fb5-afdf-1b8153d636ac",
   "metadata": {},
   "source": [
    "#### During the work we used AI software. such as chat GPT"
   ]
  },
  {
   "cell_type": "code",
   "execution_count": null,
   "id": "2c1af536-c831-4063-bbd3-7a1d001c04ff",
   "metadata": {},
   "outputs": [],
   "source": []
  }
 ],
 "metadata": {
  "kernelspec": {
   "display_name": "Python 3 (ipykernel)",
   "language": "python",
   "name": "python3"
  },
  "language_info": {
   "codemirror_mode": {
    "name": "ipython",
    "version": 3
   },
   "file_extension": ".py",
   "mimetype": "text/x-python",
   "name": "python",
   "nbconvert_exporter": "python",
   "pygments_lexer": "ipython3",
   "version": "3.9.13"
  }
 },
 "nbformat": 4,
 "nbformat_minor": 5
}
